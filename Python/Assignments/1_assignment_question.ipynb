{
  "cells": [
    {
      "cell_type": "markdown",
      "metadata": {
        "id": "2vavjIaxfOOH"
      },
      "source": [
        "# Python Basics\n",
        "## Topics Covered:\n",
        "- Syntax and Semantics\n",
        "- Variables and Data Types\n",
        "- Basic Operators (Arithmetic, Comparison, Logical)\n"
      ]
    },
    {
      "cell_type": "markdown",
      "metadata": {
        "id": "BCH6WVs0fOOL"
      },
      "source": [
        "## 1. Syntax and Semantics\n",
        "\n",
        "**Question 1:** Write a Python program to print \"Hello, World!\"."
      ]
    },
    {
      "cell_type": "code",
      "execution_count": 120,
      "metadata": {
        "id": "Fh8i2TClfOOM",
        "colab": {
          "base_uri": "https://localhost:8080/"
        },
        "outputId": "5320cfac-397e-472c-f11d-631433942aea"
      },
      "outputs": [
        {
          "output_type": "stream",
          "name": "stdout",
          "text": [
            "Hello, World!\n"
          ]
        }
      ],
      "source": [
        "# Your code here\n",
        "print(\"Hello, World!\")"
      ]
    },
    {
      "cell_type": "markdown",
      "metadata": {
        "id": "CSlFbnmZfOON"
      },
      "source": [
        "**Question 2:** Write a Python program that takes a user input and prints it."
      ]
    },
    {
      "cell_type": "code",
      "execution_count": 121,
      "metadata": {
        "id": "I3JArF3YfOOO",
        "colab": {
          "base_uri": "https://localhost:8080/"
        },
        "outputId": "494e738f-9313-4fac-ed67-ac0c50474f48"
      },
      "outputs": [
        {
          "output_type": "stream",
          "name": "stdout",
          "text": [
            "Enter your Message : Hello World!\n",
            "Hello World!\n"
          ]
        }
      ],
      "source": [
        "# Your code here\n",
        "Message = input(\"Enter your Message : \")\n",
        "print(Message)"
      ]
    },
    {
      "cell_type": "markdown",
      "metadata": {
        "id": "BnVIf7gwfOOO"
      },
      "source": [
        "**Question 3:** Write a Python program to check if a number is positive, negative, or zero."
      ]
    },
    {
      "cell_type": "code",
      "execution_count": 122,
      "metadata": {
        "id": "-xV4FmGGfOOO",
        "colab": {
          "base_uri": "https://localhost:8080/"
        },
        "outputId": "3217be0c-63d2-4f2a-a6ab-fb5df73b6a1c"
      },
      "outputs": [
        {
          "output_type": "stream",
          "name": "stdout",
          "text": [
            "Enter the number : 0\n",
            "The Number is Zero\n"
          ]
        }
      ],
      "source": [
        "# Your code here\n",
        "num = float(input(\"Enter the number : \"))\n",
        "if num > 0:\n",
        "    print(\"The Number is Positive\")\n",
        "elif num < 0:\n",
        "    print(\"The Number is Negativee\")\n",
        "else:\n",
        "    print(\"The Number is Zero\")"
      ]
    },
    {
      "cell_type": "markdown",
      "metadata": {
        "id": "BxUKa_28fOOP"
      },
      "source": [
        "**Question 4:** Write a Python program to find the largest of three numbers."
      ]
    },
    {
      "cell_type": "code",
      "execution_count": 123,
      "metadata": {
        "id": "Qe7hD5cRfOOP",
        "colab": {
          "base_uri": "https://localhost:8080/"
        },
        "outputId": "7fcc1a3e-4912-4510-dbd1-02f0a21dfb31"
      },
      "outputs": [
        {
          "output_type": "stream",
          "name": "stdout",
          "text": [
            "Enter the Numbers Seperated by Spaces : 1 2 3\n",
            "The Largest Number among (1, 2, 3) is : 3\n"
          ]
        }
      ],
      "source": [
        "# Your code here\n",
        "# x,y,z = 10,20,30\n",
        "# first = int(input(\"Enter Your First Number : \"))\n",
        "# second = int(input(\"Enter Your Second Number : \"))\n",
        "# third = int(input(\"Enter Your Third Number : \"))\n",
        "first,second,third = map(int,input(\"Enter the Numbers Seperated by Spaces : \").split())\n",
        "if first >= second and first>= third:\n",
        "    print(f\"The Largest Number among {first,second,third} is : {first}\")\n",
        "elif second>= first and second >=third:\n",
        "    print(f\"The Largest Number among {first,second,third} is : {second}\")\n",
        "else:\n",
        "    print(f\"The Largest Number among {first,second,third} is : {third}\")"
      ]
    },
    {
      "cell_type": "markdown",
      "metadata": {
        "id": "H1oy_sAafOOQ"
      },
      "source": [
        "**Question 5:** Write a Python program to calculate the factorial of a number."
      ]
    },
    {
      "cell_type": "code",
      "execution_count": 124,
      "metadata": {
        "id": "hSSoKTcEfOOR",
        "colab": {
          "base_uri": "https://localhost:8080/"
        },
        "outputId": "c2f2b2e5-060a-4267-feb7-153a1c3cc9dc"
      },
      "outputs": [
        {
          "output_type": "stream",
          "name": "stdout",
          "text": [
            "Enter the number : 20\n",
            "Factorial of 20 is 2432902008176640000\n"
          ]
        }
      ],
      "source": [
        "# Your code here\n",
        "def factorial(num):\n",
        "    if num<0:\n",
        "        return \"Not Possible!!\"\n",
        "    result = 1\n",
        "    for i in range(1,num+1):\n",
        "        result*=i\n",
        "    return result\n",
        "num = int(input(\"Enter the number : \"))\n",
        "print(f\"Factorial of {num} is {factorial(num)}\")"
      ]
    },
    {
      "cell_type": "markdown",
      "metadata": {
        "id": "evteENBhfOOS"
      },
      "source": [
        "## 2. Variables and Data Types\n",
        "\n",
        "**Question 6:** Create variables of different data types: integer, float, string, and boolean. Print their values and types."
      ]
    },
    {
      "cell_type": "code",
      "execution_count": 148,
      "metadata": {
        "id": "TTasivq3fOOS",
        "colab": {
          "base_uri": "https://localhost:8080/"
        },
        "outputId": "ebc784ea-4d50-4eb2-af02-a277c858fbd3"
      },
      "outputs": [
        {
          "output_type": "stream",
          "name": "stdout",
          "text": [
            "Value of A is 10 and type is <class 'int'>\n",
            "Value of B is 10.0 and type is <class 'float'>\n",
            "Value of C is \"Sri Ram\" and type is <class 'str'>\n",
            "Value of D is True and type is <class 'bool'>\n"
          ]
        }
      ],
      "source": [
        "from re import A\n",
        "# Your code here\n",
        "A = 10\n",
        "B = 10.0\n",
        "C =  \"Sri Ram\"\n",
        "D = True\n",
        "print(f\"Value of A is {A} and type is {type(A)}\")\n",
        "print(f\"Value of B is {B} and type is {type(B)}\")\n",
        "print(f\"Value of C is \\\"{C}\\\" and type is {type(C)}\")\n",
        "print(f\"Value of D is {D} and type is {type(D)}\")"
      ]
    },
    {
      "cell_type": "markdown",
      "metadata": {
        "id": "6JUyRhiNfOOT"
      },
      "source": [
        "**Question 7:** Write a Python program to swap the values of two variables."
      ]
    },
    {
      "cell_type": "code",
      "execution_count": 126,
      "metadata": {
        "id": "WNaepgDNfOOT",
        "colab": {
          "base_uri": "https://localhost:8080/"
        },
        "outputId": "113b51ed-8c50-4eac-87c8-e1eb97dfddae"
      },
      "outputs": [
        {
          "output_type": "stream",
          "name": "stdout",
          "text": [
            "Before swap X is 10 and Y is 20\n",
            "\n",
            "After swap X is 20 and Y is 10\n"
          ]
        }
      ],
      "source": [
        "# Your code here\n",
        "X = 10\n",
        "Y = 20\n",
        "print(f\"Before swap X is {X} and Y is {Y}\\n\")\n",
        "temp = X\n",
        "X = Y\n",
        "Y = temp\n",
        "print(f\"After swap X is {X} and Y is {Y}\")\n"
      ]
    },
    {
      "cell_type": "markdown",
      "metadata": {
        "id": "C68PpgOwfOOT"
      },
      "source": [
        "**Question 8:** Write a Python program to convert Celsius to Fahrenheit."
      ]
    },
    {
      "cell_type": "code",
      "execution_count": 127,
      "metadata": {
        "id": "0HvuTBOQfOOT",
        "colab": {
          "base_uri": "https://localhost:8080/"
        },
        "outputId": "e55c2af6-a198-4af6-9a26-959d76221d14"
      },
      "outputs": [
        {
          "output_type": "stream",
          "name": "stdout",
          "text": [
            "Enter the value in Celcius degree : 36\n",
            "The 36 degree in Fahrenheit is 96.8\n"
          ]
        }
      ],
      "source": [
        "# Your code here\n",
        "celcius = int(input(\"Enter the value in Celcius degree : \"))\n",
        "print(f\"The {celcius} degree in Fahrenheit is {(celcius * 1.8) + 32}\")"
      ]
    },
    {
      "cell_type": "markdown",
      "metadata": {
        "id": "OcP_7ENzfOOU"
      },
      "source": [
        "**Question 9:** Write a Python program to concatenate two strings."
      ]
    },
    {
      "cell_type": "code",
      "execution_count": 128,
      "metadata": {
        "id": "zSQrsc_ofOOU",
        "colab": {
          "base_uri": "https://localhost:8080/"
        },
        "outputId": "c71f370d-35df-4025-d262-4c9204a52c85"
      },
      "outputs": [
        {
          "output_type": "stream",
          "name": "stdout",
          "text": [
            "The Concatenated String is Hello, World!\n"
          ]
        }
      ],
      "source": [
        "# Your code here\n",
        "str1 = \"Hello, \"\n",
        "str2 = \"World!\"\n",
        "print(f\"The Concatenated String is {str1 + str2}\")"
      ]
    },
    {
      "cell_type": "markdown",
      "metadata": {
        "id": "morc9GrhfOOU"
      },
      "source": [
        "**Question 10:** Write a Python program to check if a variable is of a specific data type."
      ]
    },
    {
      "cell_type": "code",
      "execution_count": 129,
      "metadata": {
        "id": "UQGIMpnafOOV",
        "colab": {
          "base_uri": "https://localhost:8080/"
        },
        "outputId": "fa675503-7108-4929-f3da-832195aea820"
      },
      "outputs": [
        {
          "output_type": "stream",
          "name": "stdout",
          "text": [
            "10 is an Integer\n"
          ]
        }
      ],
      "source": [
        "# Your code here\n",
        "x = 10\n",
        "if type(x) == int :\n",
        "    print(f\"{x} is an Integer\")\n",
        "elif type(x) == float :\n",
        "    print(f\"{x} is a Float\")\n",
        "elif type(x) == str :\n",
        "    print(f\"{x} is a String\")\n",
        "elif type(x) == bool :\n",
        "    print(f\"{x} is a Boolean\")\n",
        "elif type(x) == complex:\n",
        "    print(f\"{x} is a Complex Number\")\n",
        "else:\n",
        "    print(f\"{x} is of Other types\")\n",
        "\n"
      ]
    },
    {
      "cell_type": "markdown",
      "metadata": {
        "id": "AjxCSm71fOOV"
      },
      "source": [
        "## 3. Basic Operators (Arithmetic, Comparison, Logical)\n",
        "\n",
        "**Question 11:** Write a Python program to perform arithmetic operations: addition, subtraction, multiplication, and division."
      ]
    },
    {
      "cell_type": "code",
      "execution_count": 130,
      "metadata": {
        "id": "8tUOi29kfOOV",
        "colab": {
          "base_uri": "https://localhost:8080/"
        },
        "outputId": "358582cf-52f0-4f71-9fe4-4bd0c4a866d4"
      },
      "outputs": [
        {
          "output_type": "stream",
          "name": "stdout",
          "text": [
            "Enter two numbers seperated by a space : 20 10\n",
            "Addition Value is 30\n",
            "Subtraction Value is 10\n",
            "Multiplication Value is 200\n",
            "Division Value is 2.0\n",
            "Floor Division Value is 2\n",
            "Modular Value is 0\n"
          ]
        }
      ],
      "source": [
        "# Your code here\n",
        "class Calculator:\n",
        "     def __init__(self,a,b) -> None:\n",
        "        self.a = a\n",
        "        self.b = b\n",
        "     def add(self):\n",
        "         return a + b\n",
        "     def sub(self):\n",
        "         return a - b\n",
        "     def mul(self):\n",
        "         return a * b\n",
        "     def div(self):\n",
        "         if b!=0:\n",
        "            return a / b\n",
        "     def floor(self):\n",
        "         if b!=0:\n",
        "            return a // b\n",
        "     def mod(self):\n",
        "         if b!=0:\n",
        "            return a % b\n",
        "\n",
        "a,b = input(\"Enter two numbers seperated by a space : \").split()\n",
        "a=int(a)\n",
        "b=int(b)\n",
        "calc = Calculator(a,b)\n",
        "print(f\"Addition Value is {calc.add()}\")\n",
        "print(f\"Subtraction Value is {calc.sub()}\")\n",
        "print(f\"Multiplication Value is {calc.mul()}\")\n",
        "print(f\"Division Value is {calc.div()}\")\n",
        "print(f\"Floor Division Value is {calc.floor()}\")\n",
        "print(f\"Modular Value is {calc.mod()}\")"
      ]
    },
    {
      "cell_type": "markdown",
      "metadata": {
        "id": "LO_qTxG5fOOV"
      },
      "source": [
        "**Question 12:** Write a Python program to demonstrate comparison operators: equal to, not equal to, greater than, less than."
      ]
    },
    {
      "cell_type": "code",
      "execution_count": 131,
      "metadata": {
        "id": "ZMOk8Dh5fOOV",
        "colab": {
          "base_uri": "https://localhost:8080/"
        },
        "outputId": "db2bd550-9f4d-49c9-ec1b-a3a000edec01"
      },
      "outputs": [
        {
          "output_type": "stream",
          "name": "stdout",
          "text": [
            "10 == 20 is False\n",
            "10 != 20 is True\n",
            "10 > 20 is False\n",
            "10 < 20 is True\n"
          ]
        }
      ],
      "source": [
        "# Your code here\n",
        "x = 10\n",
        "y = 20\n",
        "print( f\"{x} == {y} is {x == y}\\n\\\n",
        "{x} != {y} is {x != y}\\n\\\n",
        "{x} > {y} is {x > y}\\n\\\n",
        "{x} < {y} is {x < y}\" )"
      ]
    },
    {
      "cell_type": "markdown",
      "metadata": {
        "id": "cbIddFU8fOOW"
      },
      "source": [
        "**Question 13:** Write a Python program to demonstrate logical operators: and, or, not."
      ]
    },
    {
      "cell_type": "code",
      "execution_count": 149,
      "metadata": {
        "id": "CbEd2uqafOOW",
        "colab": {
          "base_uri": "https://localhost:8080/"
        },
        "outputId": "c3b14e03-4e8a-4dbe-8626-ad4a8aafe311"
      },
      "outputs": [
        {
          "output_type": "stream",
          "name": "stdout",
          "text": [
            "\"1 and 0\" is 0\n",
            "\"1 or 0\" is 1\n",
            "\"not 1\" is 0\n",
            "\"not 0\" is 1\n"
          ]
        }
      ],
      "source": [
        "# Your code here\n",
        "truthy = 1 #or True\n",
        "falsy = 0 #or False\n",
        "print(f\"\\\"{truthy} and {falsy}\\\" is {truthy and falsy}\")\n",
        "print(f\"\\\"{truthy} or {falsy}\\\" is {truthy or falsy}\")\n",
        "print(f\"\\\"not {truthy}\\\" is {1 if not truthy else 0}\")\n",
        "print(f\"\\\"not {falsy}\\\" is {1 if not falsy else 0}\")"
      ]
    },
    {
      "cell_type": "markdown",
      "metadata": {
        "id": "uL4L59JlfOOW"
      },
      "source": [
        "**Question 14:** Write a Python program to calculate the square of a number."
      ]
    },
    {
      "cell_type": "code",
      "execution_count": 133,
      "metadata": {
        "id": "-IDX-6vyfOOW",
        "colab": {
          "base_uri": "https://localhost:8080/"
        },
        "outputId": "8167af3a-50ea-45d0-ea2c-8f138496c3e9"
      },
      "outputs": [
        {
          "output_type": "stream",
          "name": "stdout",
          "text": [
            "Enter the Number to find the square : 12\n",
            "144\n"
          ]
        }
      ],
      "source": [
        "# Your code here\n",
        "num = int(input(\"Enter the Number to find the square : \"))\n",
        "square = num**2\n",
        "print(square)"
      ]
    },
    {
      "cell_type": "markdown",
      "metadata": {
        "id": "dVV9sk7afOOW"
      },
      "source": [
        "**Question 15:** Write a Python program to check if a number is even or odd."
      ]
    },
    {
      "cell_type": "code",
      "execution_count": 150,
      "metadata": {
        "id": "ovNfU0QGfOOX",
        "colab": {
          "base_uri": "https://localhost:8080/"
        },
        "outputId": "ba3e3f20-a34e-4977-e72c-af68eac687cb"
      },
      "outputs": [
        {
          "output_type": "stream",
          "name": "stdout",
          "text": [
            "Enter the Number : 7\n",
            "7 is Odd!\n"
          ]
        }
      ],
      "source": [
        "# Your code here\n",
        "def is_even_odd(number):\n",
        "    if number % 2 == 0:\n",
        "       return f\"{number} is Even!\"\n",
        "    else:\n",
        "       return f\"{number} is Odd!\"\n",
        "number = int(input(\"Enter the Number : \"))\n",
        "print(is_even_odd(number))"
      ]
    },
    {
      "cell_type": "markdown",
      "metadata": {
        "id": "i14FV5_-fOOX"
      },
      "source": [
        "**Question 16:** Write a Python program to find the sum of the first n natural numbers."
      ]
    },
    {
      "cell_type": "code",
      "execution_count": 135,
      "metadata": {
        "id": "iPJULEvEfOOX",
        "colab": {
          "base_uri": "https://localhost:8080/"
        },
        "outputId": "db31dc86-6a56-4757-8fa0-b0bca561da82"
      },
      "outputs": [
        {
          "output_type": "stream",
          "name": "stdout",
          "text": [
            "Enter the Natural number : 10\n",
            "55\n"
          ]
        }
      ],
      "source": [
        "# Your code here\n",
        "def sum_of_n(n):\n",
        "    return n * (n+1)//2\n",
        "n = int(input(\"Enter the Natural number : \"))\n",
        "print(sum_of_n(n))"
      ]
    },
    {
      "cell_type": "markdown",
      "metadata": {
        "id": "XsjfxyxgfOOX"
      },
      "source": [
        "**Question 17:** Write a Python program to check if a year is a leap year."
      ]
    },
    {
      "cell_type": "code",
      "execution_count": 152,
      "metadata": {
        "id": "D6LHVpT9fOOX",
        "colab": {
          "base_uri": "https://localhost:8080/"
        },
        "outputId": "1288954c-946e-49a3-b019-19167f182f2b"
      },
      "outputs": [
        {
          "output_type": "stream",
          "name": "stdout",
          "text": [
            "Enter Year : 2025\n",
            "2025 is not a Leap Year\n"
          ]
        }
      ],
      "source": [
        "# Your code here\n",
        "def is_leap_year(year):\n",
        "    if(year % 4 ==0 and year % 100 != 0) or (year % 400 == 0):\n",
        "        return f\"{year} is a Leap Year\"\n",
        "    else:\n",
        "        return f\"{year} is not a Leap Year\"\n",
        "\n",
        "year = int(input(\"Enter Year : \"))\n",
        "print(is_leap_year(year))\n"
      ]
    },
    {
      "cell_type": "markdown",
      "metadata": {
        "id": "qW1r3v9QfOOX"
      },
      "source": [
        "**Question 18:** Write a Python program to reverse a string."
      ]
    },
    {
      "cell_type": "code",
      "execution_count": 137,
      "metadata": {
        "id": "bHuhtuFSfOOX",
        "colab": {
          "base_uri": "https://localhost:8080/"
        },
        "outputId": "602cf53f-4d6f-4d35-e795-21fe830d54d3"
      },
      "outputs": [
        {
          "output_type": "stream",
          "name": "stdout",
          "text": [
            "Enter the String : SaiSriram\n",
            "marirSiaS\n",
            "marirSiaS\n"
          ]
        }
      ],
      "source": [
        "# Your code here\n",
        "def reverse_str_slice(string):\n",
        "    return f\"{string[::-1]}\"\n",
        "\n",
        "#using for loop\n",
        "def reverse_str_loop(string):\n",
        "     reversed = \"\"\n",
        "     for i in range(len(string)-1,-1,-1):\n",
        "          reversed += string[i]\n",
        "     return reversed\n",
        "string = input(\"Enter the String : \")\n",
        "print(reverse_str_slice(string))\n",
        "print(reverse_str_loop(string))\n",
        "\n",
        "\n",
        "\n"
      ]
    },
    {
      "cell_type": "markdown",
      "metadata": {
        "id": "rTX3UXe6fOOY"
      },
      "source": [
        "**Question 19:** Write a Python program to check if a string is a palindrome."
      ]
    },
    {
      "cell_type": "code",
      "execution_count": 145,
      "metadata": {
        "id": "0ObMH35jfOOY",
        "colab": {
          "base_uri": "https://localhost:8080/"
        },
        "outputId": "e2103627-fcca-47e2-abfe-2bef416b216f"
      },
      "outputs": [
        {
          "output_type": "stream",
          "name": "stdout",
          "text": [
            "Enter the String : soS\n",
            "soS is a Palindrome\n"
          ]
        }
      ],
      "source": [
        "# Your code here\n",
        "def is_palindrome(string):\n",
        "     str1 = string.lower()\n",
        "     start = 0\n",
        "     end = len(string)-1\n",
        "     while start < end:\n",
        "         if str1[start] != str1[end]:\n",
        "            return f\"{string} is not a Palindrome\"\n",
        "         start+=1\n",
        "         end-=1\n",
        "     return f\"{string} is a Palindrome\"\n",
        "string = input(\"Enter the String : \")\n",
        "print(is_palindrome(string))\n"
      ]
    },
    {
      "cell_type": "markdown",
      "metadata": {
        "id": "Qv4vEUh9fOOd"
      },
      "source": [
        "**Question 20:** Write a Python program to sort a list of numbers in ascending order."
      ]
    },
    {
      "cell_type": "code",
      "execution_count": 153,
      "metadata": {
        "id": "P6eijfdnfOOe",
        "colab": {
          "base_uri": "https://localhost:8080/"
        },
        "outputId": "886fce19-482e-4c52-ae66-d97c3c92217c"
      },
      "outputs": [
        {
          "output_type": "stream",
          "name": "stdout",
          "text": [
            "Enter the values seperated by spaces : 1 20 30 0 4 3 3 2 10 100 210\n",
            "[0, 1, 2, 3, 3, 4, 10, 20, 30, 100, 210]\n"
          ]
        }
      ],
      "source": [
        "# Your code here\n",
        "ls = list(map(int,input(\"Enter the values seperated by spaces : \").split()))\n",
        "# ls.sort()\n",
        "# print(ls)\n",
        "\n",
        "def sort_list(ls):\n",
        "    n = len(ls)\n",
        "    for i in range(n):\n",
        "       for j in range(0, n - 1 - i):\n",
        "          if ls[j] > ls[j+1]:\n",
        "             ls[j], ls[j+1] = ls[j+1], ls[j]\n",
        "sort_list(ls)\n",
        "print(ls)\n",
        ""
      ]
    }
  ],
  "metadata": {
    "kernelspec": {
      "display_name": "Python 3",
      "language": "python",
      "name": "python3"
    },
    "language_info": {
      "codemirror_mode": {
        "name": "ipython",
        "version": 3
      },
      "file_extension": ".py",
      "mimetype": "text/x-python",
      "name": "python",
      "nbconvert_exporter": "python",
      "pygments_lexer": "ipython3",
      "version": "3.8.5"
    },
    "colab": {
      "provenance": []
    }
  },
  "nbformat": 4,
  "nbformat_minor": 0
}
