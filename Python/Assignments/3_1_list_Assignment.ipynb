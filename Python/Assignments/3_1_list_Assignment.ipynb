{
  "cells": [
    {
      "cell_type": "markdown",
      "source": [
        "1."
      ],
      "metadata": {
        "id": "hvAX4widsbSC"
      },
      "id": "hvAX4widsbSC"
    },
    {
      "cell_type": "code",
      "source": [
        "ints = [i for i in range(1,21)] #or list(range(1,21))\n",
        "print(ints)"
      ],
      "metadata": {
        "colab": {
          "base_uri": "https://localhost:8080/"
        },
        "id": "nObT0k9esd6N",
        "outputId": "d4c50e88-6ecf-4d32-f143-bb27e4dc32b5"
      },
      "id": "nObT0k9esd6N",
      "execution_count": null,
      "outputs": [
        {
          "output_type": "stream",
          "name": "stdout",
          "text": [
            "[1, 2, 3, 4, 5, 6, 7, 8, 9, 10, 11, 12, 13, 14, 15, 16, 17, 18, 19, 20]\n"
          ]
        }
      ]
    },
    {
      "cell_type": "markdown",
      "source": [
        "2."
      ],
      "metadata": {
        "id": "xbjcAaXxsvzH"
      },
      "id": "xbjcAaXxsvzH"
    },
    {
      "cell_type": "code",
      "source": [
        "first = ints[0]\n",
        "middle = ints[len(ints)//2]\n",
        "last = ints[-1]\n",
        "print(f\"First element is {first}.\")\n",
        "print(f\"Middle element is {middle}.\")\n",
        "print(f\"Last element is {last}.\")"
      ],
      "metadata": {
        "colab": {
          "base_uri": "https://localhost:8080/"
        },
        "id": "GXVr3xJWsxBZ",
        "outputId": "bf992dbb-fdce-4049-8438-683829d19174"
      },
      "id": "GXVr3xJWsxBZ",
      "execution_count": null,
      "outputs": [
        {
          "output_type": "stream",
          "name": "stdout",
          "text": [
            "First element is 1.\n",
            "Middle element is 11.\n",
            "Last element is 20.\n"
          ]
        }
      ]
    },
    {
      "cell_type": "markdown",
      "source": [
        "3."
      ],
      "metadata": {
        "id": "X-w_W2t2ujqY"
      },
      "id": "X-w_W2t2ujqY"
    },
    {
      "cell_type": "code",
      "source": [
        "# print(\"First five elements :\", end = \" \")\n",
        "# for i in range(5):\n",
        "#     print(ints[i],end=\" \")\n",
        "# print(\"\\nLast five elements :\", end = \" \")\n",
        "# for i in range(len(ints)-5,len(ints)):\n",
        "#     print(ints[i], end =\" \")\n",
        "# print (\"\\nElements from index 5 to 15 :\", end = \" \")\n",
        "# for i in range(5,16):\n",
        "#     print(ints[i],end=\" \")\n",
        "\n",
        "              #OR\n",
        "\n",
        "print(\"First five elements:\", ints[:5])\n",
        "print(\"Last five elements:\", ints[-5:])\n",
        "print(\"Elements from index 5 to 15:\", ints[5:16])"
      ],
      "metadata": {
        "colab": {
          "base_uri": "https://localhost:8080/"
        },
        "id": "AxzDHgyhulJs",
        "outputId": "b649b722-9195-43f0-914a-6ef7a50adcea"
      },
      "id": "AxzDHgyhulJs",
      "execution_count": null,
      "outputs": [
        {
          "output_type": "stream",
          "name": "stdout",
          "text": [
            "First five elements: [1, 2, 3, 4, 5]\n",
            "Last five elements: [16, 17, 18, 19, 20]\n",
            "Elements from index 5 to 15: [6, 7, 8, 9, 10, 11, 12, 13, 14, 15, 16]\n"
          ]
        }
      ]
    },
    {
      "cell_type": "markdown",
      "source": [
        "4."
      ],
      "metadata": {
        "id": "xF7LY0i4yLEb"
      },
      "id": "xF7LY0i4yLEb"
    },
    {
      "cell_type": "code",
      "source": [
        "squares = [x**2 for x in range(1,11)]\n",
        "print(squares)"
      ],
      "metadata": {
        "colab": {
          "base_uri": "https://localhost:8080/"
        },
        "id": "rg7RzCqKySa5",
        "outputId": "c110ec4b-1d64-4412-cc1a-e46e99bc159b"
      },
      "id": "rg7RzCqKySa5",
      "execution_count": null,
      "outputs": [
        {
          "output_type": "stream",
          "name": "stdout",
          "text": [
            "[1, 4, 9, 16, 25, 36, 49, 64, 81, 100]\n"
          ]
        }
      ]
    },
    {
      "cell_type": "markdown",
      "source": [
        "5."
      ],
      "metadata": {
        "id": "uxHAcarMyh__"
      },
      "id": "uxHAcarMyh__"
    },
    {
      "cell_type": "code",
      "source": [
        "evens = [x for x in ints if x % 2 ==0]\n",
        "print(evens)"
      ],
      "metadata": {
        "colab": {
          "base_uri": "https://localhost:8080/"
        },
        "id": "ogDB8X_eyjCy",
        "outputId": "66f038d1-f383-4a47-ffc3-569b2d1807ed"
      },
      "id": "ogDB8X_eyjCy",
      "execution_count": null,
      "outputs": [
        {
          "output_type": "stream",
          "name": "stdout",
          "text": [
            "[2, 4, 6, 8, 10, 12, 14, 16, 18, 20]\n"
          ]
        }
      ]
    },
    {
      "cell_type": "markdown",
      "source": [
        "6."
      ],
      "metadata": {
        "id": "0ZZ1SRImzF4x"
      },
      "id": "0ZZ1SRImzF4x"
    },
    {
      "cell_type": "code",
      "source": [
        "random = [1,4,7,2,3,10,2,3,4,11,12,10,20]\n",
        "temp = random.copy()\n",
        "\n",
        "#Using Sorted()\n",
        "asc_list = sorted(random)\n",
        "print(f\"Ascending using sorted() : {asc_list}\")\n",
        "\n",
        "desc_list = sorted(random,reverse=True)\n",
        "print(f\"Ascending using sorted() : {desc_list}\")\n",
        "print()\n",
        "random.sort()\n",
        "print(f\"Ascending using sort() : {random}\")\n",
        "random.sort(reverse=True)\n",
        "print(f\"Descending using sort() : {random}\")\n",
        "print()\n",
        "unique_list = []\n",
        "for item in temp:\n",
        "    if item not in unique_list:\n",
        "        unique_list.append(item)\n",
        "print(f\"Unique List is : {unique_list}\")\n",
        "print(f\"Unique List using set(): {set(temp)}\")"
      ],
      "metadata": {
        "colab": {
          "base_uri": "https://localhost:8080/"
        },
        "id": "VzJON7PwzHQw",
        "outputId": "4a5a38ff-99ea-4e6b-bb6a-c251cdb2b3ea"
      },
      "id": "VzJON7PwzHQw",
      "execution_count": null,
      "outputs": [
        {
          "output_type": "stream",
          "name": "stdout",
          "text": [
            "Ascending using sorted() : [1, 2, 2, 3, 3, 4, 4, 7, 10, 10, 11, 12, 20]\n",
            "Ascending using sorted() : [20, 12, 11, 10, 10, 7, 4, 4, 3, 3, 2, 2, 1]\n",
            "\n",
            "Ascending using sort() : [1, 2, 2, 3, 3, 4, 4, 7, 10, 10, 11, 12, 20]\n",
            "Descending using sort() : [20, 12, 11, 10, 10, 7, 4, 4, 3, 3, 2, 2, 1]\n",
            "\n",
            "Unique List is : [1, 4, 7, 2, 3, 10, 11, 12, 20]\n",
            "Unique List using set(): {1, 2, 3, 4, 7, 10, 11, 12, 20}\n"
          ]
        }
      ]
    },
    {
      "cell_type": "markdown",
      "source": [
        "7."
      ],
      "metadata": {
        "id": "kelyJeDe27D-"
      },
      "id": "kelyJeDe27D-"
    },
    {
      "cell_type": "code",
      "source": [
        "matrix = [[1,2,3],[4,5,6],[7,8,9]]\n",
        "print(matrix)\n",
        "value = matrix[1][2]\n",
        "print(value)"
      ],
      "metadata": {
        "colab": {
          "base_uri": "https://localhost:8080/"
        },
        "id": "R_-_aaYm2_a3",
        "outputId": "d6b1a460-f770-48d7-bff8-dcfd86481bd2"
      },
      "id": "R_-_aaYm2_a3",
      "execution_count": null,
      "outputs": [
        {
          "output_type": "stream",
          "name": "stdout",
          "text": [
            "[[1, 2, 3], [4, 5, 6], [7, 8, 9]]\n",
            "6\n"
          ]
        }
      ]
    },
    {
      "cell_type": "markdown",
      "source": [
        "8."
      ],
      "metadata": {
        "id": "TsTza70f3dIv"
      },
      "id": "TsTza70f3dIv"
    },
    {
      "cell_type": "code",
      "source": [
        "std_details = [{'name': \"Ashok\",'score': 90},{'name': \"Rahul\",'score': 80},{'name': \"Sai\",'score': 95},{'name': \"Raj\",'score': 60}]\n",
        "\n",
        "print(f\"Before Sorting : {std_details}\")\n",
        "\n",
        "sorted_dict = sorted(std_details, key = lambda x : x['score'], reverse=True)\n",
        "\n",
        "print(f\"After Sorting : {sorted_dict}\")"
      ],
      "metadata": {
        "colab": {
          "base_uri": "https://localhost:8080/"
        },
        "id": "ip-rZi033ejS",
        "outputId": "a7016182-b922-4cd3-9206-777aa2b44145"
      },
      "id": "ip-rZi033ejS",
      "execution_count": null,
      "outputs": [
        {
          "output_type": "stream",
          "name": "stdout",
          "text": [
            "Before Sorting : [{'name': 'Ashok', 'score': 90}, {'name': 'Rahul', 'score': 80}, {'name': 'Sai', 'score': 95}, {'name': 'Raj', 'score': 60}]\n",
            "After Sorting : [{'name': 'Sai', 'score': 95}, {'name': 'Ashok', 'score': 90}, {'name': 'Rahul', 'score': 80}, {'name': 'Raj', 'score': 60}]\n"
          ]
        }
      ]
    },
    {
      "cell_type": "markdown",
      "source": [
        "9."
      ],
      "metadata": {
        "id": "XXJXL2gHKdGh"
      },
      "id": "XXJXL2gHKdGh"
    },
    {
      "cell_type": "code",
      "source": [
        "matrix = []\n",
        "\n",
        "for i in range(3):\n",
        "    row = list(map(int, input().split()))\n",
        "    matrix.append(row)\n",
        "\n",
        "transpose = [[matrix[j][i] for j in range(3)] for i in range(3)]\n",
        "\n",
        "for row in transpose:\n",
        "    print(row)\n"
      ],
      "metadata": {
        "colab": {
          "base_uri": "https://localhost:8080/"
        },
        "id": "jTxdBFp7KbSe",
        "outputId": "6221d3df-79de-4fc5-b6bc-a52ec9502ce5"
      },
      "id": "jTxdBFp7KbSe",
      "execution_count": 2,
      "outputs": [
        {
          "output_type": "stream",
          "name": "stdout",
          "text": [
            "1 2 3\n",
            "2 3 5\n",
            "2 3 4\n",
            "[1, 2, 2]\n",
            "[2, 3, 3]\n",
            "[3, 5, 4]\n"
          ]
        }
      ]
    },
    {
      "cell_type": "markdown",
      "source": [
        "10."
      ],
      "metadata": {
        "id": "ywQYTclZOqWA"
      },
      "id": "ywQYTclZOqWA"
    },
    {
      "cell_type": "code",
      "source": [
        "def flatten_list(ls):\n",
        "    return [l for item in ls for l in item]\n",
        "ls = [[1,2,3,4],[12,3,42],[2,3,4]]\n",
        "print(ls)\n",
        "print(flatten_list(ls))"
      ],
      "metadata": {
        "colab": {
          "base_uri": "https://localhost:8080/"
        },
        "id": "hiHo6c18O2AW",
        "outputId": "4051a3c2-6119-42a6-dcef-4f5fb5c11689"
      },
      "id": "hiHo6c18O2AW",
      "execution_count": 10,
      "outputs": [
        {
          "output_type": "stream",
          "name": "stdout",
          "text": [
            "[[1, 2, 3, 4], [12, 3, 42], [2, 3, 4]]\n",
            "[1, 2, 3, 4, 12, 3, 42, 2, 3, 4]\n"
          ]
        }
      ]
    },
    {
      "cell_type": "markdown",
      "source": [
        "11."
      ],
      "metadata": {
        "id": "4Dqy3QiPRf7D"
      },
      "id": "4Dqy3QiPRf7D"
    },
    {
      "cell_type": "code",
      "source": [
        "ls = [i for i in range(1,11)]\n",
        "ls.pop(2) #or del ls[2]\n",
        "del ls[4]\n",
        "ls.pop(6)\n",
        "ls.insert(5,99)\n",
        "print(ls)"
      ],
      "metadata": {
        "colab": {
          "base_uri": "https://localhost:8080/"
        },
        "id": "idHEXpspRhAh",
        "outputId": "e6e3b108-59a1-4dfe-ed46-b3ae4509e9ac"
      },
      "id": "idHEXpspRhAh",
      "execution_count": 15,
      "outputs": [
        {
          "output_type": "stream",
          "name": "stdout",
          "text": [
            "[1, 2, 4, 5, 7, 99, 8, 10]\n"
          ]
        }
      ]
    },
    {
      "cell_type": "markdown",
      "source": [
        "12."
      ],
      "metadata": {
        "id": "CEKLv69zTtKr"
      },
      "id": "CEKLv69zTtKr"
    },
    {
      "cell_type": "code",
      "source": [
        "ls1 = [1,2,3,4,5]\n",
        "ls2 = [6,7,8,9,10]\n",
        "zipped = zip(ls1,ls2)\n",
        "zipped = list(zipped)\n",
        "print(zipped)"
      ],
      "metadata": {
        "colab": {
          "base_uri": "https://localhost:8080/"
        },
        "id": "xLGkefhjSoQq",
        "outputId": "802032f4-343a-4636-a7f8-780148d98aef"
      },
      "id": "xLGkefhjSoQq",
      "execution_count": 21,
      "outputs": [
        {
          "output_type": "stream",
          "name": "stdout",
          "text": [
            "[(1, 6), (2, 7), (3, 8), (4, 9), (5, 10)]\n"
          ]
        }
      ]
    },
    {
      "cell_type": "markdown",
      "source": [
        "13."
      ],
      "metadata": {
        "id": "HYVvokCdVvR5"
      },
      "id": "HYVvokCdVvR5"
    },
    {
      "cell_type": "code",
      "source": [
        "def reversed_ls(ls):\n",
        "    return ls[::-1]\n",
        "print(reversed_ls([1,2,3,4,5]))"
      ],
      "metadata": {
        "colab": {
          "base_uri": "https://localhost:8080/"
        },
        "id": "XoMP3OZOVyOu",
        "outputId": "c5ce180f-b06f-4656-a7bb-2b2db1d4bf79"
      },
      "id": "XoMP3OZOVyOu",
      "execution_count": 22,
      "outputs": [
        {
          "output_type": "stream",
          "name": "stdout",
          "text": [
            "[5, 4, 3, 2, 1]\n"
          ]
        }
      ]
    },
    {
      "cell_type": "markdown",
      "source": [
        "14."
      ],
      "metadata": {
        "id": "T-XDhFh0WE0d"
      },
      "id": "T-XDhFh0WE0d"
    },
    {
      "cell_type": "code",
      "source": [
        "def rotate_n(ls,n):\n",
        "    n = n % len(ls)\n",
        "    for _ in range(n):\n",
        "        popped = ls.pop()\n",
        "        ls.insert(0,popped)\n",
        "    return ls\n",
        "\n",
        "print(rotate_n([1,2,3,4,5],2))\n",
        "\n"
      ],
      "metadata": {
        "colab": {
          "base_uri": "https://localhost:8080/"
        },
        "id": "8gCBcBHGWF7W",
        "outputId": "a8392b6a-865e-4122-90f7-bcc35ead631b"
      },
      "id": "8gCBcBHGWF7W",
      "execution_count": 29,
      "outputs": [
        {
          "output_type": "stream",
          "name": "stdout",
          "text": [
            "[4, 5, 1, 2, 3]\n"
          ]
        }
      ]
    },
    {
      "cell_type": "markdown",
      "source": [
        "15."
      ],
      "metadata": {
        "id": "h9ObjhraYbhi"
      },
      "id": "h9ObjhraYbhi"
    },
    {
      "cell_type": "code",
      "source": [
        "def common(ls1,ls2):\n",
        "    return [x for x in ls1 if x in ls2]\n",
        "ls1 = [1,2,3,4,5]\n",
        "ls2 = [3,4,5,6,7]\n",
        "print(common(ls1,ls2))\n",
        "ls1 = set(ls1)\n",
        "ls2 = set(ls2)\n",
        "intersect_ls = list(ls1.intersection(ls2))\n",
        "print(intersect_ls)"
      ],
      "metadata": {
        "colab": {
          "base_uri": "https://localhost:8080/"
        },
        "id": "h1oacLD1YcwC",
        "outputId": "5f2ddfbe-7a62-47e3-dc0e-02afcc92c2ed"
      },
      "id": "h1oacLD1YcwC",
      "execution_count": 35,
      "outputs": [
        {
          "output_type": "stream",
          "name": "stdout",
          "text": [
            "[3, 4, 5]\n",
            "[3, 4, 5]\n"
          ]
        }
      ]
    },
    {
      "cell_type": "markdown",
      "metadata": {
        "id": "VxXOTo4tsL1J"
      },
      "source": [
        "# Module 3: Data Structures Assignments\n",
        "## Lesson 3.1: Lists\n",
        "### Assignment 1: Creating and Accessing Lists\n",
        "\n",
        "Create a list of the first 20 positive integers. Print the list.\n",
        "\n",
        "### Assignment 2: Accessing List Elements\n",
        "\n",
        "Print the first, middle, and last elements of the list created in Assignment 1.\n",
        "\n",
        "### Assignment 3: List Slicing\n",
        "\n",
        "Print the first five elements, the last five elements, and the elements from index 5 to 15 of the list created in Assignment 1.\n",
        "\n",
        "### Assignment 4: List Comprehensions\n",
        "\n",
        "Create a new list containing the squares of the first 10 positive integers using a list comprehension. Print the new list.\n",
        "\n",
        "### Assignment 5: Filtering Lists\n",
        "\n",
        "Create a new list containing only the even numbers from the list created in Assignment 1 using a list comprehension. Print the new list.\n",
        "\n",
        "### Assignment 6: List Methods\n",
        "\n",
        "Create a list of random numbers and sort it in ascending and descending order. Remove the duplicates from the list and print the modified list.\n",
        "\n",
        "### Assignment 7: Nested Lists\n",
        "\n",
        "Create a nested list representing a 3x3 matrix and print the matrix. Access and print the element at the second row and third column.\n",
        "\n",
        "### Assignment 8: List of Dictionaries\n",
        "\n",
        "Create a list of dictionaries where each dictionary represents a student with keys 'name' and 'score'. Sort the list of dictionaries by the 'score' in descending order and print the sorted list.\n",
        "\n",
        "### Assignment 9: Matrix Transposition\n",
        "\n",
        "Write a function that takes a 3x3 matrix (nested list) as input and returns its transpose. Print the original and transposed matrices.\n",
        "\n",
        "### Assignment 10: Flattening a Nested List\n",
        "\n",
        "Write a function that takes a nested list and flattens it into a single list. Print the original and flattened lists.\n",
        "\n",
        "### Assignment 11: List Manipulation\n",
        "\n",
        "Create a list of the first 10 positive integers. Remove the elements at indices 2, 4, and 6, and insert the element '99' at index 5. Print the modified list.\n",
        "\n",
        "### Assignment 12: List Zipping\n",
        "\n",
        "Create two lists of the same length. Use the `zip` function to combine these lists into a list of tuples and print the result.\n",
        "\n",
        "### Assignment 13: List Reversal\n",
        "\n",
        "Write a function that takes a list and returns a new list with the elements in reverse order. Print the original and reversed lists.\n",
        "\n",
        "### Assignment 14: List Rotation\n",
        "\n",
        "Write a function that rotates a list by n positions. Print the original and rotated lists.\n",
        "\n",
        "### Assignment 15: List Intersection\n",
        "\n",
        "Write a function that takes two lists and returns a new list containing only the elements that are present in both lists. Print the intersected list."
      ],
      "id": "VxXOTo4tsL1J"
    }
  ],
  "metadata": {
    "kernelspec": {
      "display_name": "Python 3",
      "language": "python",
      "name": "python3"
    },
    "language_info": {
      "codemirror_mode": {
        "name": "ipython",
        "version": 3
      },
      "file_extension": ".py",
      "mimetype": "text/x-python",
      "name": "python",
      "nbconvert_exporter": "python",
      "pygments_lexer": "ipython3",
      "version": "3.9.7"
    },
    "colab": {
      "provenance": []
    }
  },
  "nbformat": 4,
  "nbformat_minor": 5
}
