{
  "cells": [
    {
      "cell_type": "markdown",
      "source": [
        "# Module 2: Control Flow Assignments\n",
        "## Lesson 2.1: Conditional Statements\n",
        "###Assignment 1: Simple if Statement\n",
        "Write a program that asks the user to input a number and prints whether the number is positive."
      ],
      "metadata": {
        "id": "qY7tWfTIYYiK"
      },
      "id": "qY7tWfTIYYiK"
    },
    {
      "cell_type": "code",
      "source": [
        "num = int(input(\"Enter a Number : \"))\n",
        "if num > 0:\n",
        "    print(f\"{num} is Positive\")"
      ],
      "metadata": {
        "colab": {
          "base_uri": "https://localhost:8080/"
        },
        "id": "I5tiG2YsYc9-",
        "outputId": "a1c5e566-3748-4cf2-8ce5-d32387083881"
      },
      "id": "I5tiG2YsYc9-",
      "execution_count": null,
      "outputs": [
        {
          "output_type": "stream",
          "name": "stdout",
          "text": [
            "Enter a Number : 2\n",
            "2 is Positive\n"
          ]
        }
      ]
    },
    {
      "cell_type": "markdown",
      "source": [
        "###Assignment 2: if-else Statement\n",
        "Write a program that asks the user to input a number and prints whether the number is positive or negative."
      ],
      "metadata": {
        "id": "AAwZPo_EY2aj"
      },
      "id": "AAwZPo_EY2aj"
    },
    {
      "cell_type": "code",
      "source": [
        "num = int(input(\"Enter a Number : \"))\n",
        "if num > 0:\n",
        "    print(f\"{num} is Positive\")\n",
        "else:\n",
        "    print(f\"{num} is Negative\")"
      ],
      "metadata": {
        "colab": {
          "base_uri": "https://localhost:8080/"
        },
        "id": "8KjWvp7KY8DY",
        "outputId": "e1225851-5431-42bc-dbf8-4b92121ff025"
      },
      "id": "8KjWvp7KY8DY",
      "execution_count": null,
      "outputs": [
        {
          "output_type": "stream",
          "name": "stdout",
          "text": [
            "Enter a Number : -1\n",
            "-1 is Negative\n"
          ]
        }
      ]
    },
    {
      "cell_type": "markdown",
      "source": [
        "###Assignment 3: if-elif-else Statement\n",
        "Write a program that asks the user to input a number and prints whether the number is positive, negative, or zero."
      ],
      "metadata": {
        "id": "xTw4FRvsZNri"
      },
      "id": "xTw4FRvsZNri"
    },
    {
      "cell_type": "code",
      "source": [
        "num = int(input(\"Enter a Number : \"))\n",
        "if num > 0:\n",
        "    print(f\"{num} is Positive\")\n",
        "elif num < 0:\n",
        "    print(f\"{num} is Negative\")\n",
        "else:\n",
        "    print(f\"{num} is zero\")\n"
      ],
      "metadata": {
        "colab": {
          "base_uri": "https://localhost:8080/"
        },
        "id": "kEgkOxniZSoB",
        "outputId": "3570e2aa-9265-4372-c40b-5dd0afdfcc90"
      },
      "id": "kEgkOxniZSoB",
      "execution_count": null,
      "outputs": [
        {
          "output_type": "stream",
          "name": "stdout",
          "text": [
            "Enter a Number : 0\n",
            "0 is zero\n"
          ]
        }
      ]
    },
    {
      "cell_type": "markdown",
      "source": [
        "###Assignment 4: Nested if Statement\n",
        "Write a program that asks the user to input a number and prints whether the number is positive and even, positive and odd, or negative."
      ],
      "metadata": {
        "id": "Fags0YaUZiZX"
      },
      "id": "Fags0YaUZiZX"
    },
    {
      "cell_type": "code",
      "source": [
        "num = int(input(\"Enter a Number : \"))\n",
        "if num > 0:\n",
        "    if num % 2 == 0:\n",
        "       print(f\"{num} is Positive and Even!\")\n",
        "    else:\n",
        "        print(f\"{num} is Positive and Odd!\")\n",
        "else:\n",
        "   print(f\"{num} is Negative\")\n"
      ],
      "metadata": {
        "colab": {
          "base_uri": "https://localhost:8080/"
        },
        "id": "blm-L_DmZjdc",
        "outputId": "dcae50ea-090f-4319-9acf-9e40a56bf05a"
      },
      "id": "blm-L_DmZjdc",
      "execution_count": null,
      "outputs": [
        {
          "output_type": "stream",
          "name": "stdout",
          "text": [
            "Enter a Number : 3\n",
            "3 is Positive and Odd!\n"
          ]
        }
      ]
    },
    {
      "cell_type": "markdown",
      "source": [
        "## Lesson 2.2: Loops\n",
        "###Assignment 5: for Loop\n",
        "Write a program that prints all the numbers from 1 to 10 using a for loop."
      ],
      "metadata": {
        "id": "MpmmF0F-a6_B"
      },
      "id": "MpmmF0F-a6_B"
    },
    {
      "cell_type": "code",
      "source": [
        "for i in range(1,11):\n",
        "    print(i)"
      ],
      "metadata": {
        "colab": {
          "base_uri": "https://localhost:8080/"
        },
        "id": "IstW1qqcbEm-",
        "outputId": "4a654ceb-8776-4ce3-d58b-d63b7f365c84"
      },
      "id": "IstW1qqcbEm-",
      "execution_count": null,
      "outputs": [
        {
          "output_type": "stream",
          "name": "stdout",
          "text": [
            "1\n",
            "2\n",
            "3\n",
            "4\n",
            "5\n",
            "6\n",
            "7\n",
            "8\n",
            "9\n",
            "10\n"
          ]
        }
      ]
    },
    {
      "cell_type": "markdown",
      "source": [
        "### Assignment 6: while Loop\n",
        "\n",
        "Write a program that prints all the numbers from 1 to 10 using a while loop."
      ],
      "metadata": {
        "id": "cIuJxKTrbShb"
      },
      "id": "cIuJxKTrbShb"
    },
    {
      "cell_type": "code",
      "source": [
        "num=1\n",
        "while num <11:\n",
        "    print(num)\n",
        "    num=num+1"
      ],
      "metadata": {
        "colab": {
          "base_uri": "https://localhost:8080/"
        },
        "id": "UESq4MEHbUHc",
        "outputId": "bc7ca3e0-c2c8-421b-8ccd-f83b6fb9d627"
      },
      "id": "UESq4MEHbUHc",
      "execution_count": null,
      "outputs": [
        {
          "output_type": "stream",
          "name": "stdout",
          "text": [
            "1\n",
            "2\n",
            "3\n",
            "4\n",
            "5\n",
            "6\n",
            "7\n",
            "8\n",
            "9\n",
            "10\n"
          ]
        }
      ]
    },
    {
      "cell_type": "markdown",
      "source": [
        "### Assignment 7: Nested Loops\n",
        "\n",
        "Write a program that prints a 5x5 grid of asterisks (*) using nested loops."
      ],
      "metadata": {
        "id": "M-HSxRWUbhTf"
      },
      "id": "M-HSxRWUbhTf"
    },
    {
      "cell_type": "code",
      "source": [
        "for i in range(5):\n",
        "    for j in range(5):\n",
        "        print(\"*\",end=\" \")\n",
        "    print()"
      ],
      "metadata": {
        "colab": {
          "base_uri": "https://localhost:8080/"
        },
        "id": "-de1mYEobl4i",
        "outputId": "28a40169-3454-404f-80d4-4d7dfeffd3a3"
      },
      "id": "-de1mYEobl4i",
      "execution_count": null,
      "outputs": [
        {
          "output_type": "stream",
          "name": "stdout",
          "text": [
            "* * * * * \n",
            "* * * * * \n",
            "* * * * * \n",
            "* * * * * \n",
            "* * * * * \n"
          ]
        }
      ]
    },
    {
      "cell_type": "markdown",
      "source": [
        "### Assignment 8: break Statement\n",
        "\n",
        "Write a program that asks the user to input numbers until they input 0. The program should print the sum of all the input numbers."
      ],
      "metadata": {
        "id": "5I_E3rwYcTo7"
      },
      "id": "5I_E3rwYcTo7"
    },
    {
      "cell_type": "code",
      "source": [
        "sum=0\n",
        "while True:\n",
        "    num = float(input(\"Enter number : \"))\n",
        "    if num == 0:\n",
        "        break\n",
        "    sum+=num\n",
        "print(sum)"
      ],
      "metadata": {
        "colab": {
          "base_uri": "https://localhost:8080/"
        },
        "id": "6EWFEj1dcUvb",
        "outputId": "02919bb9-648b-46ea-b460-9cda08c82618"
      },
      "id": "6EWFEj1dcUvb",
      "execution_count": null,
      "outputs": [
        {
          "output_type": "stream",
          "name": "stdout",
          "text": [
            "Enter number : 1\n",
            "Enter number : 2\n",
            "Enter number : 3\n",
            "Enter number : 4\n",
            "Enter number : 5\n",
            "Enter number : 6\n",
            "Enter number : 0\n",
            "21.0\n"
          ]
        }
      ]
    },
    {
      "cell_type": "markdown",
      "source": [
        "### Assignment 9: continue Statement\n",
        "\n",
        "Write a program that prints all the numbers from 1 to 10 except 5 using a for loop and continue statement."
      ],
      "metadata": {
        "id": "vka5FHUWd-69"
      },
      "id": "vka5FHUWd-69"
    },
    {
      "cell_type": "code",
      "source": [
        "for i in range (1,11):\n",
        "    if i == 5:\n",
        "        continue\n",
        "    print(i)"
      ],
      "metadata": {
        "colab": {
          "base_uri": "https://localhost:8080/"
        },
        "id": "Hy3-KAEPeA2v",
        "outputId": "010e3273-3a27-4d1b-e3cf-6a02a5d4cc7e"
      },
      "id": "Hy3-KAEPeA2v",
      "execution_count": null,
      "outputs": [
        {
          "output_type": "stream",
          "name": "stdout",
          "text": [
            "1\n",
            "2\n",
            "3\n",
            "4\n",
            "6\n",
            "7\n",
            "8\n",
            "9\n",
            "10\n"
          ]
        }
      ]
    },
    {
      "cell_type": "markdown",
      "source": [
        "### Assignment 10: pass Statement\n",
        "\n",
        "Write a program that defines an empty function using the pass statement."
      ],
      "metadata": {
        "id": "J-S0SBtPeZ_y"
      },
      "id": "J-S0SBtPeZ_y"
    },
    {
      "cell_type": "code",
      "source": [
        "def empty_func()->None:\n",
        "    pass"
      ],
      "metadata": {
        "id": "PiQ7x1ygebcq"
      },
      "id": "PiQ7x1ygebcq",
      "execution_count": null,
      "outputs": []
    },
    {
      "cell_type": "markdown",
      "source": [
        "### Assignment 11: Combining Loops and Conditionals\n",
        "\n",
        "Write a program that asks the user to input a number and prints all the even numbers from 1 to that number using a for loop."
      ],
      "metadata": {
        "id": "KvKIKjTNesPK"
      },
      "id": "KvKIKjTNesPK"
    },
    {
      "cell_type": "code",
      "source": [
        "n = int(input(\"Enter a Number : \"))\n",
        "for i in range(2,n+1):\n",
        "    if i % 2 == 0:\n",
        "        print(i)"
      ],
      "metadata": {
        "colab": {
          "base_uri": "https://localhost:8080/"
        },
        "id": "Pq8amghoetp3",
        "outputId": "916ad048-78f7-4653-baa4-c85f52a4d451"
      },
      "id": "Pq8amghoetp3",
      "execution_count": null,
      "outputs": [
        {
          "output_type": "stream",
          "name": "stdout",
          "text": [
            "Enter a Number : 5\n",
            "2\n",
            "4\n"
          ]
        }
      ]
    },
    {
      "cell_type": "markdown",
      "source": [
        "### Assignment 12: Factorial Calculation\n",
        "\n",
        "Write a program that calculates the factorial of a number input by the user using a while loop."
      ],
      "metadata": {
        "id": "kYk9OQB1fFDq"
      },
      "id": "kYk9OQB1fFDq"
    },
    {
      "cell_type": "code",
      "source": [
        "n = int(input(\"Enter the Number to get the Factorial : \"))\n",
        "result = 1\n",
        "i = 2\n",
        "while i <= n:\n",
        "    result *= i\n",
        "    i += 1\n",
        "print(result)\n"
      ],
      "metadata": {
        "colab": {
          "base_uri": "https://localhost:8080/"
        },
        "id": "EiyOOFrXfLFm",
        "outputId": "8fcb3096-1434-407e-d9d7-d823777b90fd"
      },
      "id": "EiyOOFrXfLFm",
      "execution_count": 11,
      "outputs": [
        {
          "output_type": "stream",
          "name": "stdout",
          "text": [
            "Enter the Number to get the Factorial : 5\n",
            "120\n"
          ]
        }
      ]
    },
    {
      "cell_type": "markdown",
      "source": [
        "##Assignment 13: Sum of Digits\n",
        "Write a program that calculates the sum of the digits of a number input by the user using a while loop."
      ],
      "metadata": {
        "id": "YV3EowqHsNQh"
      },
      "id": "YV3EowqHsNQh"
    },
    {
      "cell_type": "code",
      "source": [
        "input_num = int(input(\"Enter the Number : \"))\n",
        "sum=0\n",
        "while input_num!=0:\n",
        "      digit=input_num % 10\n",
        "      sum+=digit\n",
        "      input_num//=10\n",
        "print(sum)\n"
      ],
      "metadata": {
        "colab": {
          "base_uri": "https://localhost:8080/"
        },
        "id": "jApCvsPvsRJH",
        "outputId": "6c54fd53-24f4-4f14-c719-753d130121a7"
      },
      "id": "jApCvsPvsRJH",
      "execution_count": null,
      "outputs": [
        {
          "output_type": "stream",
          "name": "stdout",
          "text": [
            "Enter the Number : 12345\n",
            "15\n"
          ]
        }
      ]
    },
    {
      "cell_type": "markdown",
      "source": [
        "##Assignment 14: Prime Number Check\n",
        "Write a program that checks if a number input by the user is a prime number using a for loop."
      ],
      "metadata": {
        "id": "tEJTVHp3yLOw"
      },
      "id": "tEJTVHp3yLOw"
    },
    {
      "cell_type": "code",
      "source": [
        "def is_prime(num):\n",
        "    if num <= 1:\n",
        "        return False\n",
        "    for i in range(2,int(num**0.5)+1):\n",
        "          if num % i == 0:\n",
        "              return False\n",
        "    return True\n",
        "\n",
        "num = int(input(\"Enter a Number : \"))\n",
        "print(is_prime(num))"
      ],
      "metadata": {
        "colab": {
          "base_uri": "https://localhost:8080/"
        },
        "id": "TaEZ6XP0yOHE",
        "outputId": "6b6303b1-1931-4afc-9271-e31e6c215d5e"
      },
      "id": "TaEZ6XP0yOHE",
      "execution_count": null,
      "outputs": [
        {
          "output_type": "stream",
          "name": "stdout",
          "text": [
            "Enter a Number : 100\n",
            "False\n"
          ]
        }
      ]
    },
    {
      "cell_type": "markdown",
      "source": [
        "##Assignment 15: Fibonacci Sequence\n",
        "Write a program that prints the first n Fibonacci numbers, where n is input by the user."
      ],
      "metadata": {
        "id": "G21mctmIyPKz"
      },
      "id": "G21mctmIyPKz"
    },
    {
      "cell_type": "code",
      "source": [
        "def fibonacci_series(n):\n",
        "    a , b = 0, 1\n",
        "    for _ in range(n):\n",
        "        print(a , end = \" \")\n",
        "        a, b = b, a+b\n",
        "num = int(input(\"Enter a Number : \"))\n",
        "fibonacci_series(num)"
      ],
      "metadata": {
        "colab": {
          "base_uri": "https://localhost:8080/"
        },
        "id": "y2rm6_OPyWaM",
        "outputId": "77af4577-0706-4b0e-a887-91afd38d51e5"
      },
      "id": "y2rm6_OPyWaM",
      "execution_count": null,
      "outputs": [
        {
          "output_type": "stream",
          "name": "stdout",
          "text": [
            "Enter a Number : 5\n",
            "0 1 1 2 3 "
          ]
        }
      ]
    },
    {
      "cell_type": "markdown",
      "metadata": {
        "id": "0SHV1e3aXvUr"
      },
      "source": [
        "# Module 2: Control Flow Assignments\n",
        "## Lesson 2.1: Conditional Statements\n",
        "### Assignment 1: Simple if Statement\n",
        "\n",
        "Write a program that asks the user to input a number and prints whether the number is positive.\n",
        "\n",
        "### Assignment 2: if-else Statement\n",
        "\n",
        "Write a program that asks the user to input a number and prints whether the number is positive or negative.\n",
        "\n",
        "### Assignment 3: if-elif-else Statement\n",
        "\n",
        "Write a program that asks the user to input a number and prints whether the number is positive, negative, or zero.\n",
        "\n",
        "### Assignment 4: Nested if Statement\n",
        "\n",
        "Write a program that asks the user to input a number and prints whether the number is positive and even, positive and odd, or negative.\n",
        "\n",
        "## Lesson 2.2: Loops\n",
        "### Assignment 5: for Loop\n",
        "\n",
        "Write a program that prints all the numbers from 1 to 10 using a for loop.\n",
        "\n",
        "### Assignment 6: while Loop\n",
        "\n",
        "Write a program that prints all the numbers from 1 to 10 using a while loop.\n",
        "\n",
        "### Assignment 7: Nested Loops\n",
        "\n",
        "Write a program that prints a 5x5 grid of asterisks (*) using nested loops.\n",
        "\n",
        "### Assignment 8: break Statement\n",
        "\n",
        "Write a program that asks the user to input numbers until they input 0. The program should print the sum of all the input numbers.\n",
        "2\n",
        "### Assignment 9: continue Statement\n",
        "\n",
        "Write a program that prints all the numbers from 1 to 10 except 5 using a for loop and continue statement.\n",
        "\n",
        "### Assignment 10: pass Statement\n",
        "\n",
        "Write a program that defines an empty function using the pass statement.\n",
        "\n",
        "### Assignment 11: Combining Loops and Conditionals\n",
        "\n",
        "Write a program that asks the user to input a number and prints all the even numbers from 1 to that number using a for loop.\n",
        "\n",
        "### Assignment 12: Factorial Calculation\n",
        "\n",
        "Write a program that calculates the factorial of a number input by the user using a while loop.\n",
        "\n",
        "### Assignment 13: Sum of Digits\n",
        "\n",
        "Write a program that calculates the sum of the digits of a number input by the user using a while loop.\n",
        "\n",
        "### Assignment 14: Prime Number Check\n",
        "\n",
        "Write a program that checks if a number input by the user is a prime number using a for loop.\n",
        "\n",
        "### Assignment 15: Fibonacci Sequence\n",
        "\n",
        "Write a program that prints the first n Fibonacci numbers, where n is input by the user."
      ],
      "id": "0SHV1e3aXvUr"
    },
    {
      "cell_type": "code",
      "execution_count": null,
      "metadata": {
        "id": "pnkURWWDXvUw"
      },
      "outputs": [],
      "source": [],
      "id": "pnkURWWDXvUw"
    }
  ],
  "metadata": {
    "kernelspec": {
      "display_name": "Python 3",
      "language": "python",
      "name": "python3"
    },
    "language_info": {
      "codemirror_mode": {
        "name": "ipython",
        "version": 3
      },
      "file_extension": ".py",
      "mimetype": "text/x-python",
      "name": "python",
      "nbconvert_exporter": "python",
      "pygments_lexer": "ipython3",
      "version": "3.9.7"
    },
    "colab": {
      "provenance": []
    }
  },
  "nbformat": 4,
  "nbformat_minor": 5
}